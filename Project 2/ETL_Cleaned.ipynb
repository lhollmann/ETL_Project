{
 "cells": [
  {
   "cell_type": "code",
   "execution_count": 1,
   "metadata": {},
   "outputs": [],
   "source": [
    "import pandas as pd\n",
    "import numpy as np\n",
    "from sqlalchemy import create_engine"
   ]
  },
  {
   "cell_type": "code",
   "execution_count": 2,
   "metadata": {},
   "outputs": [
    {
     "data": {
      "text/html": [
       "<div>\n",
       "<style scoped>\n",
       "    .dataframe tbody tr th:only-of-type {\n",
       "        vertical-align: middle;\n",
       "    }\n",
       "\n",
       "    .dataframe tbody tr th {\n",
       "        vertical-align: top;\n",
       "    }\n",
       "\n",
       "    .dataframe thead th {\n",
       "        text-align: right;\n",
       "    }\n",
       "</style>\n",
       "<table border=\"1\" class=\"dataframe\">\n",
       "  <thead>\n",
       "    <tr style=\"text-align: right;\">\n",
       "      <th></th>\n",
       "      <th>Station</th>\n",
       "      <th>FY11</th>\n",
       "      <th>FY12</th>\n",
       "      <th>FY13</th>\n",
       "      <th>FY14</th>\n",
       "    </tr>\n",
       "  </thead>\n",
       "  <tbody>\n",
       "    <tr>\n",
       "      <th>25</th>\n",
       "      <td>Embarcadero</td>\n",
       "      <td>35603.036</td>\n",
       "      <td>37699.788</td>\n",
       "      <td>41058.692308</td>\n",
       "      <td>42546.2</td>\n",
       "    </tr>\n",
       "    <tr>\n",
       "      <th>26</th>\n",
       "      <td>Montgomery Street</td>\n",
       "      <td>33710.808</td>\n",
       "      <td>36517.092</td>\n",
       "      <td>39166.773279</td>\n",
       "      <td>40864.1</td>\n",
       "    </tr>\n",
       "    <tr>\n",
       "      <th>27</th>\n",
       "      <td>Powell Street</td>\n",
       "      <td>25138.656</td>\n",
       "      <td>26400.488</td>\n",
       "      <td>28294.546559</td>\n",
       "      <td>28321.6</td>\n",
       "    </tr>\n",
       "    <tr>\n",
       "      <th>28</th>\n",
       "      <td>Civic Center</td>\n",
       "      <td>18119.396</td>\n",
       "      <td>18739.088</td>\n",
       "      <td>20341.599190</td>\n",
       "      <td>20810.4</td>\n",
       "    </tr>\n",
       "  </tbody>\n",
       "</table>\n",
       "</div>"
      ],
      "text/plain": [
       "              Station       FY11       FY12          FY13     FY14\n",
       "25        Embarcadero  35603.036  37699.788  41058.692308  42546.2\n",
       "26  Montgomery Street  33710.808  36517.092  39166.773279  40864.1\n",
       "27      Powell Street  25138.656  26400.488  28294.546559  28321.6\n",
       "28       Civic Center  18119.396  18739.088  20341.599190  20810.4"
      ]
     },
     "execution_count": 2,
     "metadata": {},
     "output_type": "execute_result"
    }
   ],
   "source": [
    "# BART data's excel into a DF\n",
    "rawBART_data = 'Resources/FY Avg Wkdy Exits by Station_6.xlsx'\n",
    "rawBART = pd.read_excel(rawBART_data, header=3)\n",
    "# Using only Name, 2012, 2013, and 2014 data\n",
    "dfBART = rawBART[['Station','FY11', 'FY12', 'FY13', 'FY14']].copy()\n",
    "# Using only downtown SF stations' rider exits\n",
    "dfEXITS = dfBART.iloc[25:29]\n",
    "dfEXITS"
   ]
  },
  {
   "cell_type": "code",
   "execution_count": 3,
   "metadata": {},
   "outputs": [
    {
     "name": "stdout",
     "output_type": "stream",
     "text": [
      "2011 riders: 112572.0\n",
      "\n",
      "2012 riders: 119356.0\n",
      "\n",
      "2013 riders: 128862.0\n",
      "\n",
      "2014 riders: 132542.0\n"
     ]
    }
   ],
   "source": [
    "# Get the sum of all downtown stations by year\n",
    "dtsf_2011 = np.round(dfEXITS['FY11'].sum(), 0)\n",
    "dtsf_2012 = np.round(dfEXITS['FY12'].sum(), 0)\n",
    "dtsf_2013 = np.round(dfEXITS['FY13'].sum(), 0)\n",
    "dtsf_2014 = np.round(dfEXITS['FY14'].sum(), 0)\n",
    "print(f\"2011 riders: {dtsf_2011}\\n\\n2012 riders: {dtsf_2012}\\n\\n2013 riders: {dtsf_2013}\\n\\n2014 riders: {dtsf_2014}\")"
   ]
  },
  {
   "cell_type": "code",
   "execution_count": 4,
   "metadata": {},
   "outputs": [
    {
     "name": "stderr",
     "output_type": "stream",
     "text": [
      "C:\\Users\\Liam\\Anaconda3\\lib\\site-packages\\IPython\\core\\interactiveshell.py:3020: DtypeWarning: Columns (3,4,5,6,12) have mixed types. Specify dtype option on import or set low_memory=False.\n",
      "  interactivity=interactivity, compiler=compiler, result=result)\n"
     ]
    },
    {
     "data": {
      "text/html": [
       "<div>\n",
       "<style scoped>\n",
       "    .dataframe tbody tr th:only-of-type {\n",
       "        vertical-align: middle;\n",
       "    }\n",
       "\n",
       "    .dataframe tbody tr th {\n",
       "        vertical-align: top;\n",
       "    }\n",
       "\n",
       "    .dataframe thead th {\n",
       "        text-align: right;\n",
       "    }\n",
       "</style>\n",
       "<table border=\"1\" class=\"dataframe\">\n",
       "  <thead>\n",
       "    <tr style=\"text-align: right;\">\n",
       "      <th></th>\n",
       "      <th>BasePay</th>\n",
       "      <th>Benefits</th>\n",
       "      <th>TotalPay</th>\n",
       "      <th>Year</th>\n",
       "    </tr>\n",
       "  </thead>\n",
       "  <tbody>\n",
       "    <tr>\n",
       "      <th>36159</th>\n",
       "      <td>128809</td>\n",
       "      <td>44430.1</td>\n",
       "      <td>362844.66</td>\n",
       "      <td>2012</td>\n",
       "    </tr>\n",
       "    <tr>\n",
       "      <th>36160</th>\n",
       "      <td>302578</td>\n",
       "      <td>69810.2</td>\n",
       "      <td>321552.11</td>\n",
       "      <td>2012</td>\n",
       "    </tr>\n",
       "    <tr>\n",
       "      <th>36161</th>\n",
       "      <td>111921</td>\n",
       "      <td>53102.3</td>\n",
       "      <td>336393.73</td>\n",
       "      <td>2012</td>\n",
       "    </tr>\n",
       "    <tr>\n",
       "      <th>36162</th>\n",
       "      <td>296943</td>\n",
       "      <td>72047.9</td>\n",
       "      <td>314759.60</td>\n",
       "      <td>2012</td>\n",
       "    </tr>\n",
       "    <tr>\n",
       "      <th>36163</th>\n",
       "      <td>126863</td>\n",
       "      <td>44438.2</td>\n",
       "      <td>337204.86</td>\n",
       "      <td>2012</td>\n",
       "    </tr>\n",
       "  </tbody>\n",
       "</table>\n",
       "</div>"
      ],
      "text/plain": [
       "      BasePay Benefits   TotalPay  Year\n",
       "36159  128809  44430.1  362844.66  2012\n",
       "36160  302578  69810.2  321552.11  2012\n",
       "36161  111921  53102.3  336393.73  2012\n",
       "36162  296943  72047.9  314759.60  2012\n",
       "36163  126863  44438.2  337204.86  2012"
      ]
     },
     "execution_count": 4,
     "metadata": {},
     "output_type": "execute_result"
    }
   ],
   "source": [
    "# SF salaries data into a DF\n",
    "rawSALARY_data = 'Resources/Salaries.csv'\n",
    "rawSALARY = pd.read_csv(rawSALARY_data)\n",
    "# Drop 2011's data\n",
    "rawSALARY = rawSALARY[rawSALARY.Year != 2011]\n",
    "# Using only BasePay, Benefits, TotalPay, and Year\n",
    "dfSALARY = rawSALARY[['BasePay', 'Benefits', 'TotalPay', 'Year']].copy()\n",
    "dfSALARY.head()"
   ]
  },
  {
   "cell_type": "code",
   "execution_count": 5,
   "metadata": {
    "scrolled": true
   },
   "outputs": [
    {
     "data": {
      "text/html": [
       "<div>\n",
       "<style scoped>\n",
       "    .dataframe tbody tr th:only-of-type {\n",
       "        vertical-align: middle;\n",
       "    }\n",
       "\n",
       "    .dataframe tbody tr th {\n",
       "        vertical-align: top;\n",
       "    }\n",
       "\n",
       "    .dataframe thead th {\n",
       "        text-align: right;\n",
       "    }\n",
       "</style>\n",
       "<table border=\"1\" class=\"dataframe\">\n",
       "  <thead>\n",
       "    <tr style=\"text-align: right;\">\n",
       "      <th></th>\n",
       "      <th>BasePay</th>\n",
       "      <th>Benefits</th>\n",
       "      <th>TotalPay</th>\n",
       "    </tr>\n",
       "    <tr>\n",
       "      <th>Year</th>\n",
       "      <th></th>\n",
       "      <th></th>\n",
       "      <th></th>\n",
       "    </tr>\n",
       "  </thead>\n",
       "  <tbody>\n",
       "    <tr>\n",
       "      <th>2012</th>\n",
       "      <td>65436.41</td>\n",
       "      <td>26439.97</td>\n",
       "      <td>74113.26</td>\n",
       "    </tr>\n",
       "    <tr>\n",
       "      <th>2013</th>\n",
       "      <td>69630.03</td>\n",
       "      <td>24131.70</td>\n",
       "      <td>78808.29</td>\n",
       "    </tr>\n",
       "    <tr>\n",
       "      <th>2014</th>\n",
       "      <td>66564.42</td>\n",
       "      <td>24789.60</td>\n",
       "      <td>75471.84</td>\n",
       "    </tr>\n",
       "  </tbody>\n",
       "</table>\n",
       "</div>"
      ],
      "text/plain": [
       "       BasePay  Benefits  TotalPay\n",
       "Year                              \n",
       "2012  65436.41  26439.97  74113.26\n",
       "2013  69630.03  24131.70  78808.29\n",
       "2014  66564.42  24789.60  75471.84"
      ]
     },
     "execution_count": 5,
     "metadata": {},
     "output_type": "execute_result"
    }
   ],
   "source": [
    "# Drop NaNs from dfSALARY as new DF\n",
    "cleaned_salary = dfSALARY.dropna(axis=0)\n",
    "# cleaned_salary = dfSALARY\n",
    "# Drop rows if they contain a non-numeric value (eg: \"Not Provided\")\n",
    "cleaned = cleaned_salary.apply(lambda x: pd.to_numeric(x, errors = 'coerce')).dropna()\n",
    "# cleaned = cleaned_salary\n",
    "# Average with 2 decimals by year\n",
    "cleaned = np.round(cleaned.groupby('Year').mean(), 2)\n",
    "cleaned"
   ]
  },
  {
   "cell_type": "code",
   "execution_count": 6,
   "metadata": {
    "scrolled": true
   },
   "outputs": [
    {
     "data": {
      "text/html": [
       "<div>\n",
       "<style scoped>\n",
       "    .dataframe tbody tr th:only-of-type {\n",
       "        vertical-align: middle;\n",
       "    }\n",
       "\n",
       "    .dataframe tbody tr th {\n",
       "        vertical-align: top;\n",
       "    }\n",
       "\n",
       "    .dataframe thead th {\n",
       "        text-align: right;\n",
       "    }\n",
       "</style>\n",
       "<table border=\"1\" class=\"dataframe\">\n",
       "  <thead>\n",
       "    <tr style=\"text-align: right;\">\n",
       "      <th></th>\n",
       "      <th>BasePay</th>\n",
       "      <th>Benefits</th>\n",
       "      <th>TotalPay</th>\n",
       "      <th>Riders</th>\n",
       "    </tr>\n",
       "    <tr>\n",
       "      <th>Year</th>\n",
       "      <th></th>\n",
       "      <th></th>\n",
       "      <th></th>\n",
       "      <th></th>\n",
       "    </tr>\n",
       "  </thead>\n",
       "  <tbody>\n",
       "    <tr>\n",
       "      <th>2012</th>\n",
       "      <td>65436.41</td>\n",
       "      <td>26439.97</td>\n",
       "      <td>74113.26</td>\n",
       "      <td>119356.0</td>\n",
       "    </tr>\n",
       "    <tr>\n",
       "      <th>2013</th>\n",
       "      <td>69630.03</td>\n",
       "      <td>24131.70</td>\n",
       "      <td>78808.29</td>\n",
       "      <td>128862.0</td>\n",
       "    </tr>\n",
       "    <tr>\n",
       "      <th>2014</th>\n",
       "      <td>66564.42</td>\n",
       "      <td>24789.60</td>\n",
       "      <td>75471.84</td>\n",
       "      <td>132542.0</td>\n",
       "    </tr>\n",
       "  </tbody>\n",
       "</table>\n",
       "</div>"
      ],
      "text/plain": [
       "       BasePay  Benefits  TotalPay    Riders\n",
       "Year                                        \n",
       "2012  65436.41  26439.97  74113.26  119356.0\n",
       "2013  69630.03  24131.70  78808.29  128862.0\n",
       "2014  66564.42  24789.60  75471.84  132542.0"
      ]
     },
     "execution_count": 6,
     "metadata": {},
     "output_type": "execute_result"
    }
   ],
   "source": [
    "# Insert the rider exit counts for 1 combined DF\n",
    "cleaned.insert(3, \"Riders\", [dtsf_2012, dtsf_2013, dtsf_2014])\n",
    "cleaned"
   ]
  },
  {
   "cell_type": "code",
   "execution_count": 7,
   "metadata": {
    "scrolled": true
   },
   "outputs": [
    {
     "data": {
      "text/html": [
       "<div>\n",
       "<style scoped>\n",
       "    .dataframe tbody tr th:only-of-type {\n",
       "        vertical-align: middle;\n",
       "    }\n",
       "\n",
       "    .dataframe tbody tr th {\n",
       "        vertical-align: top;\n",
       "    }\n",
       "\n",
       "    .dataframe thead th {\n",
       "        text-align: right;\n",
       "    }\n",
       "</style>\n",
       "<table border=\"1\" class=\"dataframe\">\n",
       "  <thead>\n",
       "    <tr style=\"text-align: right;\">\n",
       "      <th></th>\n",
       "      <th>BasePay</th>\n",
       "      <th>Benefits</th>\n",
       "      <th>TotalPay</th>\n",
       "      <th>Riders</th>\n",
       "    </tr>\n",
       "    <tr>\n",
       "      <th>Years</th>\n",
       "      <th></th>\n",
       "      <th></th>\n",
       "      <th></th>\n",
       "      <th></th>\n",
       "    </tr>\n",
       "  </thead>\n",
       "  <tbody>\n",
       "    <tr>\n",
       "      <th>2012</th>\n",
       "      <td>65436.41</td>\n",
       "      <td>26439.97</td>\n",
       "      <td>74113.26</td>\n",
       "      <td>119356.0</td>\n",
       "    </tr>\n",
       "    <tr>\n",
       "      <th>2013</th>\n",
       "      <td>69630.03</td>\n",
       "      <td>24131.70</td>\n",
       "      <td>78808.29</td>\n",
       "      <td>128862.0</td>\n",
       "    </tr>\n",
       "    <tr>\n",
       "      <th>2014</th>\n",
       "      <td>66564.42</td>\n",
       "      <td>24789.60</td>\n",
       "      <td>75471.84</td>\n",
       "      <td>132542.0</td>\n",
       "    </tr>\n",
       "  </tbody>\n",
       "</table>\n",
       "</div>"
      ],
      "text/plain": [
       "        BasePay  Benefits  TotalPay    Riders\n",
       "Years                                        \n",
       "2012   65436.41  26439.97  74113.26  119356.0\n",
       "2013   69630.03  24131.70  78808.29  128862.0\n",
       "2014   66564.42  24789.60  75471.84  132542.0"
      ]
     },
     "execution_count": 7,
     "metadata": {},
     "output_type": "execute_result"
    }
   ],
   "source": [
    "cleaned.index.names = [\"Years\"]\n",
    "cleaned"
   ]
  },
  {
   "cell_type": "code",
   "execution_count": 16,
   "metadata": {
    "scrolled": true
   },
   "outputs": [],
   "source": [
    "rds_connection_string = \"root:passwordpassword@127.0.0.1/RidershipData\"\n",
    "engine = create_engine(f'mysql://{rds_connection_string}')"
   ]
  },
  {
   "cell_type": "code",
   "execution_count": 17,
   "metadata": {},
   "outputs": [
    {
     "data": {
      "text/plain": [
       "['cleaned']"
      ]
     },
     "execution_count": 17,
     "metadata": {},
     "output_type": "execute_result"
    }
   ],
   "source": [
    "engine.table_names()"
   ]
  },
  {
   "cell_type": "code",
   "execution_count": 20,
   "metadata": {
    "scrolled": false
   },
   "outputs": [],
   "source": [
    "# engine = create_engine('sqlite://', echo = False)\n",
    "# conn = engine.connect()\n",
    "\n",
    "cleaned.to_sql(name = 'cleaned', con = engine, if_exists = 'append', index = True)\n",
    "\n",
    "# engine.execute(\"SELECT * FROM cleaned\").fetchall()"
   ]
  },
  {
   "cell_type": "code",
   "execution_count": null,
   "metadata": {},
   "outputs": [],
   "source": []
  },
  {
   "cell_type": "code",
   "execution_count": 21,
   "metadata": {},
   "outputs": [
    {
     "data": {
      "text/html": [
       "<div>\n",
       "<style scoped>\n",
       "    .dataframe tbody tr th:only-of-type {\n",
       "        vertical-align: middle;\n",
       "    }\n",
       "\n",
       "    .dataframe tbody tr th {\n",
       "        vertical-align: top;\n",
       "    }\n",
       "\n",
       "    .dataframe thead th {\n",
       "        text-align: right;\n",
       "    }\n",
       "</style>\n",
       "<table border=\"1\" class=\"dataframe\">\n",
       "  <thead>\n",
       "    <tr style=\"text-align: right;\">\n",
       "      <th></th>\n",
       "      <th>Years</th>\n",
       "      <th>BasePay</th>\n",
       "      <th>Benefits</th>\n",
       "      <th>TotalPay</th>\n",
       "      <th>Riders</th>\n",
       "      <th>id</th>\n",
       "    </tr>\n",
       "  </thead>\n",
       "  <tbody>\n",
       "    <tr>\n",
       "      <th>0</th>\n",
       "      <td>NaN</td>\n",
       "      <td>65436.4</td>\n",
       "      <td>26440.0</td>\n",
       "      <td>74113.3</td>\n",
       "      <td>119356.0</td>\n",
       "      <td>1</td>\n",
       "    </tr>\n",
       "    <tr>\n",
       "      <th>1</th>\n",
       "      <td>NaN</td>\n",
       "      <td>69630.0</td>\n",
       "      <td>24131.7</td>\n",
       "      <td>78808.3</td>\n",
       "      <td>128862.0</td>\n",
       "      <td>2</td>\n",
       "    </tr>\n",
       "    <tr>\n",
       "      <th>2</th>\n",
       "      <td>NaN</td>\n",
       "      <td>66564.4</td>\n",
       "      <td>24789.6</td>\n",
       "      <td>75471.8</td>\n",
       "      <td>132542.0</td>\n",
       "      <td>3</td>\n",
       "    </tr>\n",
       "    <tr>\n",
       "      <th>3</th>\n",
       "      <td>2012.0</td>\n",
       "      <td>65436.4</td>\n",
       "      <td>26440.0</td>\n",
       "      <td>74113.3</td>\n",
       "      <td>119356.0</td>\n",
       "      <td>4</td>\n",
       "    </tr>\n",
       "    <tr>\n",
       "      <th>4</th>\n",
       "      <td>2013.0</td>\n",
       "      <td>69630.0</td>\n",
       "      <td>24131.7</td>\n",
       "      <td>78808.3</td>\n",
       "      <td>128862.0</td>\n",
       "      <td>5</td>\n",
       "    </tr>\n",
       "  </tbody>\n",
       "</table>\n",
       "</div>"
      ],
      "text/plain": [
       "    Years  BasePay  Benefits  TotalPay    Riders  id\n",
       "0     NaN  65436.4   26440.0   74113.3  119356.0   1\n",
       "1     NaN  69630.0   24131.7   78808.3  128862.0   2\n",
       "2     NaN  66564.4   24789.6   75471.8  132542.0   3\n",
       "3  2012.0  65436.4   26440.0   74113.3  119356.0   4\n",
       "4  2013.0  69630.0   24131.7   78808.3  128862.0   5"
      ]
     },
     "execution_count": 21,
     "metadata": {},
     "output_type": "execute_result"
    }
   ],
   "source": [
    "pd.read_sql_query('select * from cleaned', con = engine).head()"
   ]
  },
  {
   "cell_type": "code",
   "execution_count": null,
   "metadata": {},
   "outputs": [],
   "source": []
  },
  {
   "cell_type": "code",
   "execution_count": null,
   "metadata": {},
   "outputs": [],
   "source": []
  }
 ],
 "metadata": {
  "kernelspec": {
   "display_name": "Python 3",
   "language": "python",
   "name": "python3"
  },
  "language_info": {
   "codemirror_mode": {
    "name": "ipython",
    "version": 3
   },
   "file_extension": ".py",
   "mimetype": "text/x-python",
   "name": "python",
   "nbconvert_exporter": "python",
   "pygments_lexer": "ipython3",
   "version": "3.7.1"
  }
 },
 "nbformat": 4,
 "nbformat_minor": 2
}
